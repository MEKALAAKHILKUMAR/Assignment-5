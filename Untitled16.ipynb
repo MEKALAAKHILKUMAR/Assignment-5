{
 "cells": [
  {
   "cell_type": "markdown",
   "id": "6cc661a9",
   "metadata": {},
   "source": [
    "# Challenge 1: Square Numbers and Return Their Sum"
   ]
  },
  {
   "cell_type": "code",
   "execution_count": 1,
   "id": "d9f06146",
   "metadata": {},
   "outputs": [
    {
     "name": "stdout",
     "output_type": "stream",
     "text": [
      "35\n"
     ]
    }
   ],
   "source": [
    "class Point:\n",
    "\n",
    "    def __init__(self,x,y,z):\n",
    "        self.x = x\n",
    "        self.y = y\n",
    "        self.z = z\n",
    "        self.sum=0\n",
    "\n",
    "    def sqSum(self):\n",
    "        self.x = self.x **2\n",
    "        self.y = self.y **2\n",
    "        self.z = self.z **2\n",
    "        self.sum=self.sum+self.x+self.y+self.z \n",
    "        print(self.sum)\n",
    "        \n",
    "\n",
    "c=Point(1,3,5)\n",
    "c.sqSum()\n"
   ]
  },
  {
   "cell_type": "markdown",
   "id": "6b566686",
   "metadata": {},
   "source": [
    "# Challenge 2: Implement a Calculator Class"
   ]
  },
  {
   "cell_type": "code",
   "execution_count": 75,
   "id": "128980c4",
   "metadata": {},
   "outputs": [
    {
     "name": "stdout",
     "output_type": "stream",
     "text": [
      "104\n",
      "84\n",
      "940\n",
      "9.4\n"
     ]
    }
   ],
   "source": [
    "class Calculator:\n",
    "    \n",
    "    def __init__(self,num1,num2):\n",
    "        self.num1=num1\n",
    "        self.num2=num2\n",
    "        \n",
    "    def add(self):\n",
    "        print(self.num2+self.num1)\n",
    "        \n",
    "    def subtract(self):\n",
    "         print(self.num2-self.num1)\n",
    "            \n",
    "    def multiply(self):\n",
    "         print(self.num2*self.num1)\n",
    "            \n",
    "    def divide(self):\n",
    "         print(self.num2/self.num1)\n",
    "    \n",
    "obj = Calculator(10,94)\n",
    "obj.add()\n",
    "obj.subtract()\n",
    "obj.multiply()\n",
    "obj.divide()\n"
   ]
  },
  {
   "cell_type": "markdown",
   "id": "67e9e8e0",
   "metadata": {},
   "source": [
    "# Challenge 3: Implement the Complete Student Class"
   ]
  },
  {
   "cell_type": "code",
   "execution_count": 10,
   "id": "936e63c7",
   "metadata": {},
   "outputs": [
    {
     "name": "stdout",
     "output_type": "stream",
     "text": [
      "Akhil\n",
      "12345\n"
     ]
    }
   ],
   "source": [
    "class Student:\n",
    "    \n",
    "    def __init__(self):\n",
    "        self.__name=\" \"\n",
    "        self.__rollNumber=\" \"\n",
    "        \n",
    "    def setName(self, name):\n",
    "        self.__name = name\n",
    "        \n",
    "    def getName(self):\n",
    "        return self.__name\n",
    "        \n",
    "    def setRollNumber(self, rollNumber):\n",
    "        self.__rollNumber = rollNumber\n",
    "\n",
    "    def getRollNumber(self):\n",
    "        return self.__rollNumber\n",
    "\n",
    "c=Student()\n",
    "c.setName(\"Akhil\")\n",
    "c.setRollNumber(\"12345\")\n",
    "print(c.getName())\n",
    "print(c.getRollNumber())\n"
   ]
  },
  {
   "cell_type": "markdown",
   "id": "cba2d057",
   "metadata": {},
   "source": [
    "# Challenge 4: Implement a Banking Account"
   ]
  },
  {
   "cell_type": "code",
   "execution_count": 46,
   "id": "00e6695c",
   "metadata": {},
   "outputs": [
    {
     "name": "stdout",
     "output_type": "stream",
     "text": [
      "Ashish\n",
      "5000\n",
      "5\n"
     ]
    }
   ],
   "source": [
    "class Account:\n",
    "    \n",
    "    def __init__(self, title=None, balance=0):\n",
    "        self.title =title\n",
    "        self.balance = balance\n",
    "\n",
    "class SavingsAccount(Account):\n",
    "    \n",
    "    def __init__(self, title=None, balance=0, interestRate=0):\n",
    "        super().__init__(title, balance)\n",
    "        self.interestRate = interestRate\n",
    "        print(self.title)\n",
    "        print(self.balance)\n",
    "        print(self.interestRate)\n",
    "\n",
    "\n",
    "savings_account = SavingsAccount(\"Ashish\", 5000, 5)\n"
   ]
  },
  {
   "cell_type": "markdown",
   "id": "ddd810a1",
   "metadata": {},
   "source": [
    "# Challenge 5: Handling a Bank Account"
   ]
  },
  {
   "cell_type": "code",
   "execution_count": 74,
   "id": "45eb72ab",
   "metadata": {},
   "outputs": [
    {
     "name": "stdout",
     "output_type": "stream",
     "text": [
      "2500\n",
      "1500\n",
      "100\n"
     ]
    }
   ],
   "source": [
    "class Account:\n",
    "    \n",
    "    def __init__(self, title=None, balance=0):\n",
    "        self.title = title\n",
    "        self.balance = balance\n",
    "        \n",
    "    def withdrawal(self, amount):\n",
    "        self.balance =self.balance- amount\n",
    "\n",
    "    def deposit(self,amount):\n",
    "        self.balance =self.balance+ amount\n",
    "    \n",
    "    def getBalance(self):\n",
    "        return self.balance\n",
    "    \n",
    "class SavingsAccount(Account):\n",
    "    \n",
    "    def __init__(self, title=None, balance=0, interestRate=0):\n",
    "        super().__init__(title, balance)\n",
    "        self.interestRate = interestRate\n",
    "        \n",
    "    def interestAmount(self):\n",
    "        return (self.balance * self.interestRate)//100\n",
    "    \n",
    "    \n",
    "b=Account(\"Ashish\",2000)\n",
    "b.deposit(500)\n",
    "print(b.getBalance())\n",
    "\n",
    "\n",
    "c=Account(\"Ashish\",2000)\n",
    "c.withdrawal(500)\n",
    "print(c.getBalance())\n",
    "    \n",
    "    \n",
    "x=SavingsAccount(\"Ashish\", 2000, 5)\n",
    "print(x.interestAmount())\n"
   ]
  },
  {
   "cell_type": "code",
   "execution_count": null,
   "id": "5672a099",
   "metadata": {},
   "outputs": [],
   "source": []
  }
 ],
 "metadata": {
  "kernelspec": {
   "display_name": "Python 3 (ipykernel)",
   "language": "python",
   "name": "python3"
  },
  "language_info": {
   "codemirror_mode": {
    "name": "ipython",
    "version": 3
   },
   "file_extension": ".py",
   "mimetype": "text/x-python",
   "name": "python",
   "nbconvert_exporter": "python",
   "pygments_lexer": "ipython3",
   "version": "3.9.13"
  }
 },
 "nbformat": 4,
 "nbformat_minor": 5
}
